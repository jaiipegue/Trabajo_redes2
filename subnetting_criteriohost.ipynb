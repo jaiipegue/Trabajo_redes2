{
 "metadata": {
  "language_info": {
   "codemirror_mode": {
    "name": "ipython",
    "version": 3
   },
   "file_extension": ".py",
   "mimetype": "text/x-python",
   "name": "python",
   "nbconvert_exporter": "python",
   "pygments_lexer": "ipython3",
   "version": "3.9.0-final"
  },
  "orig_nbformat": 2,
  "kernelspec": {
   "name": "Python 3.9.0 64-bit",
   "display_name": "Python 3.9.0 64-bit",
   "metadata": {
    "interpreter": {
     "hash": "eb3816d2bff3711a443b9643aeb503bd34e1b917d8f568ecf7a17400e6f1829e"
    }
   }
  }
 },
 "nbformat": 4,
 "nbformat_minor": 2,
 "cells": [
  {
   "cell_type": "code",
   "execution_count": 94,
   "metadata": {},
   "outputs": [],
   "source": [
    "#Subnetting Criterio de Host"
   ]
  },
  {
   "cell_type": "code",
   "execution_count": 95,
   "metadata": {},
   "outputs": [
    {
     "output_type": "stream",
     "name": "stdout",
     "text": [
      "['190', '11', '11', '1']\n"
     ]
    }
   ],
   "source": [
    "\n",
    "\n",
    "while True :\n",
    "    ip = input(\"Ingresar direccion IP: \")\n",
    "    ip = ip.split('.')\n",
    "    print(ip)\n",
    "    if len(ip) < 5:\n",
    "        for i in ip : \n",
    "            val = int(float(i))\n",
    "            if val < 256 or val > 0 : \n",
    "                continue\n",
    "    break\n",
    "    \n"
   ]
  },
  {
   "cell_type": "code",
   "execution_count": 96,
   "metadata": {},
   "outputs": [],
   "source": [
    "#Ingresar cantidad de subredes"
   ]
  },
  {
   "cell_type": "code",
   "execution_count": null,
   "metadata": {},
   "outputs": [],
   "source": []
  }
 ]
}