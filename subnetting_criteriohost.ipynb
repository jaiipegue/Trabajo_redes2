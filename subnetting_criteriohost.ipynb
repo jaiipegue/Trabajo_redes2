{
 "metadata": {
  "language_info": {
   "codemirror_mode": {
    "name": "ipython",
    "version": 3
   },
   "file_extension": ".py",
   "mimetype": "text/x-python",
   "name": "python",
   "nbconvert_exporter": "python",
   "pygments_lexer": "ipython3",
   "version": "3.7.7-final"
  },
  "orig_nbformat": 2,
  "kernelspec": {
   "name": "python3",
   "display_name": "Python 3.7.7 64-bit",
   "metadata": {
    "interpreter": {
     "hash": "38740d3277777e2cd7c6c2cc9d8addf5118fdf3f82b1b39231fd12aeac8aee8b"
    }
   }
  }
 },
 "nbformat": 4,
 "nbformat_minor": 2,
 "cells": [
  {
   "cell_type": "code",
   "execution_count": 271,
   "metadata": {},
   "outputs": [],
   "source": [
    "#Subnetting Criterio de Host\n",
    "import sys\n",
    "import math\n",
    "import cmath"
   ]
  },
  {
   "cell_type": "code",
   "execution_count": 272,
   "metadata": {},
   "outputs": [],
   "source": [
    "class Subred:\n",
    "    def __init__(self,direccion,primerAsignable,ultimoAsignable,broadcast) :\n",
    "        self.direccion = direccion\n",
    "        self.primerAsignable = primerAsignable\n",
    "        self.ultimoAsignable = ultimoAsignable\n",
    "        self.broadcast = broadcast\n",
    "    \n",
    "    def toString(self) :\n",
    "         print( \"Direccion :% s Primer asignable :% s  Ultimo asignable: %s  Broadcast: %s\" % (self.direccion,         self.primerAsignable, self.ultimoAsignable, self.broadcast) )  "
   ]
  },
  {
   "source": [
    "#Determinar clase de red\n",
    "\n",
    "def EsTipoA(primer_octeto):\n",
    "    if primer_octeto >= 0 and primer_octeto <= 127 :\n",
    "        return 'A'\n",
    "    else :\n",
    "        return '0'\n",
    "\n",
    "def EsTipoB(primer_octeto):\n",
    "    if primer_octeto >= 128 and primer_octeto <= 191 :\n",
    "        return 'B'\n",
    "    else :\n",
    "        return '0'\n",
    "\n",
    "def EsTipoC(primer_octeto):\n",
    "    if primer_octeto >= 192 and primer_octeto <= 223 :\n",
    "        return 'C'\n",
    "    else :\n",
    "        return '0'\n",
    "\n",
    "def TipoDeRed(primer_octeto) :\n",
    "    tipoDeRed = EsTipoA(primer_octeto)\n",
    "    tipoDeRed = EsTipoB(primer_octeto)\n",
    "    tipoDeRed = EsTipoC(primer_octeto)\n",
    "\n",
    "    return tipoDeRed\n",
    "\n",
    "def AsignarDireccion(tipoDeRed, ip) :\n",
    "    direccion = []\n",
    "    \n",
    "    if 'A' :\n",
    "        direccion.append(ip[0])\n",
    "    elif 'B':\n",
    "        direccion.append(ip[0])\n",
    "        direccion.append(ip[1])\n",
    "    elif 'C':\n",
    "        direccion.append(ip[0])\n",
    "        direccion.append(ip[1])\n",
    "        direccion.append(ip[2])\n",
    "\n",
    "    return direccion"
   ],
   "cell_type": "code",
   "metadata": {},
   "execution_count": 273,
   "outputs": []
  },
  {
   "cell_type": "code",
   "execution_count": 274,
   "metadata": {},
   "outputs": [
    {
     "output_type": "stream",
     "name": "stdout",
     "text": [
      "['192', '168', '10', '0']\n"
     ]
    }
   ],
   "source": [
    "ip = ''\n",
    "\n",
    "while True :\n",
    "    ip = input(\"Ingresar direccion IP: \")\n",
    "    ip = ip.split('.')\n",
    "    print(ip)\n",
    "    \n",
    "    if len(ip) < 5:\n",
    "        for i in ip : \n",
    "            val = int(float(i))\n",
    "            if val < 256 or val > 0 : \n",
    "                continue\n",
    "    break"
   ]
  },
  {
   "cell_type": "code",
   "execution_count": 275,
   "metadata": {},
   "outputs": [],
   "source": [
    "##Ingresar cantidad de subredes con cantidad de host"
   ]
  },
  {
   "cell_type": "code",
   "execution_count": 276,
   "metadata": {},
   "outputs": [],
   "source": [
    "numRedes = 0\n",
    "hostPorRed = []\n",
    "\n",
    "while True: \n",
    "   hosts = input(\"Ingrese los host para la red Nº \" + str(numRedes+1) + \" o ingrese 0 para salir\")\n",
    "   hosts = int(float(hosts))\n",
    "\n",
    "   if hosts > 0 :\n",
    "       hostPorRed.append(hosts)\n",
    "       numRedes = numRedes + 1\n",
    "   else :\n",
    "       break"
   ]
  },
  {
   "cell_type": "code",
   "execution_count": 277,
   "metadata": {},
   "outputs": [
    {
     "output_type": "stream",
     "name": "stdout",
     "text": [
      "Tipo de Red :  C\nHost permitidos:  3\n"
     ]
    }
   ],
   "source": [
    "hostPermitidos = (2 ** numRedes) - 2\n",
    "cantidadPermitida = math.ceil(math.log2(hostPermitidos))\n",
    "espacio = 2 ** (8 - cantidadPermitida)\n",
    "listaSubred = []\n",
    "i = 0\n",
    "primerAsignable = i + 1\n",
    "ultimoAsignable = primerAsignable + espacio\n",
    "broadcast = ultimoAsignable + 1\n",
    "\n",
    "print(\"Tipo de Red : \", tipoDeRed)\n",
    "print(\"Host permitidos: \", cantidadPermitida)\n",
    "\n",
    "while numRedes != 0:\n",
    "    #Asignar direccion de subred\n",
    "    tipoDeRed = TipoDeRed(int(float(ip[0])))\n",
    "    direccion = AsignarDireccion(tipoDeRed,ip)   \n",
    "\n",
    "    subred = Subred(direccion,primerAsignable,ultimoAsignable,broadcast)\n",
    "    listaSubred.append(subred)\n",
    "\n",
    "    #Generar salto de direccion\n",
    "    primerAsignable = broadcast + 2\n",
    "    ultimoAsignable = primerAsignable + espacio\n",
    "    broadcast = ultimoAsignable + 1\n",
    "    numRedes = numRedes - 1\n"
   ]
  },
  {
   "cell_type": "code",
   "execution_count": 278,
   "metadata": {},
   "outputs": [
    {
     "output_type": "stream",
     "name": "stdout",
     "text": [
      "Direccion :['192'] Primer asignable :1  Ultimo asignable: 33  Broadcast: 34\nDireccion :['192'] Primer asignable :35  Ultimo asignable: 67  Broadcast: 68\nDireccion :['192'] Primer asignable :69  Ultimo asignable: 101  Broadcast: 102\n"
     ]
    }
   ],
   "source": [
    "for x in listaSubred : \n",
    "    x.toString()"
   ]
  }
 ]
}