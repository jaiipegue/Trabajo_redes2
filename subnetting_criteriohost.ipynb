{
 "cells": [
  {
   "cell_type": "markdown",
   "metadata": {},
   "source": [
    "# Subnetting Criterio de red "
   ]
  },
  {
   "cell_type": "code",
   "execution_count": 6,
   "metadata": {},
   "outputs": [
    {
     "name": "stdout",
     "output_type": "stream",
     "text": [
      " ===================== SUBNETTING CRITERIO RED TIPO C ============\n",
      "Ingrese la direccion IP: 192.168.0.0\n",
      "Ingrese las subredes: 5\n",
      "Mascara : 192.168.0.224\n",
      "Numero de host: 30\n",
      "Salto de red: 32\n",
      "==== Subred # 1 ===\n",
      " Direccion Subred: 192.168.0.0\n",
      " Primer host: 192.168.0.1\n",
      " Ultimo host: 192.168.0.30\n",
      " Broadcast: 192.168.0.31\n",
      "==== Subred # 2 ===\n",
      " Direccion Subred: 192.168.0.32\n",
      " Primer host: 192.168.0.33\n",
      " Ultimo host: 192.168.0.62\n",
      " Broadcast: 192.168.0.63\n",
      "==== Subred # 3 ===\n",
      " Direccion Subred: 192.168.0.64\n",
      " Primer host: 192.168.0.65\n",
      " Ultimo host: 192.168.0.94\n",
      " Broadcast: 192.168.0.95\n",
      "==== Subred # 4 ===\n",
      " Direccion Subred: 192.168.0.96\n",
      " Primer host: 192.168.0.97\n",
      " Ultimo host: 192.168.0.126\n",
      " Broadcast: 192.168.0.127\n",
      "==== Subred # 5 ===\n",
      " Direccion Subred: 192.168.0.128\n",
      " Primer host: 192.168.0.129\n",
      " Ultimo host: 192.168.0.158\n",
      " Broadcast: 192.168.0.159\n"
     ]
    }
   ],
   "source": [
    "import math\n",
    "\n",
    "print(\" ===================== SUBNETTING CRITERIO RED TIPO C ============\")\n",
    "direccion=input(\"Ingrese la direccion IP: \")\n",
    "octeto=direccion.split(\".\")\n",
    "subredes=int(input(\"Ingrese las subredes: \"))\n",
    "n=math.log(subredes,2)\n",
    "na=math.ceil(n) #Valor de N aproximado\n",
    "ma=8-na # Valor de M \n",
    "sub=0\n",
    "for i in range(7,7-na,-1):\n",
    "    sub=sub+(2**i)\n",
    "octetos=octeto[0]+\".\"+octeto[1]+\".\"+octeto[2]\n",
    "mask=octetos+\".\"+str(sub) # Mascara\n",
    "Nhost = (2**ma-2)\n",
    "salto = 2**ma\n",
    "prefijo = 24+na\n",
    "\n",
    "print(f\"Mascara : {mask}\")\n",
    "print(f\"Numero de host: {Nhost}\")\n",
    "print(f\"Salto de red: {salto}\")\n",
    "\n",
    "for i in range (0, subredes):\n",
    "  print(f\"==== Subred # {i+1} ===\")\n",
    "  print(f\" Direccion Subred: {octetos}.{salto*i}\")\n",
    "  print(f\" Primer host: {octetos}.{(salto*i)+1}\")\n",
    "  print(f\" Ultimo host: {octetos}.{(salto*(i+1))-2}\")\n",
    "  print(f\" Broadcast: {octetos}.{(salto*(i+1))-1}\")\n"
   ]
  },
  {
   "cell_type": "code",
   "execution_count": 96,
   "metadata": {},
   "outputs": [],
   "source": []
  },
  {
   "cell_type": "code",
   "execution_count": null,
   "metadata": {},
   "outputs": [],
   "source": []
  }
 ],
 "metadata": {
  "kernelspec": {
   "display_name": "Python 3",
   "language": "python",
   "name": "python3"
  },
  "language_info": {
   "codemirror_mode": {
    "name": "ipython",
    "version": 3
   },
   "file_extension": ".py",
   "mimetype": "text/x-python",
   "name": "python",
   "nbconvert_exporter": "python",
   "pygments_lexer": "ipython3",
   "version": "3.8.3"
  }
 },
 "nbformat": 4,
 "nbformat_minor": 2
}
